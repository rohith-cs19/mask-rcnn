{
  "nbformat": 4,
  "nbformat_minor": 0,
  "metadata": {
    "colab": {
      "name": "mask-rcnn.ipynb",
      "provenance": [],
      "collapsed_sections": []
    },
    "kernelspec": {
      "name": "python3",
      "display_name": "Python 3"
    },
    "language_info": {
      "name": "python"
    },
    "accelerator": "GPU"
  },
  "cells": [
    {
      "cell_type": "code",
      "execution_count": 1,
      "metadata": {
        "colab": {
          "base_uri": "https://localhost:8080/",
          "height": 1000
        },
        "id": "BE0UZy-YAaor",
        "outputId": "2bb3792d-4ca1-40c1-e021-319c1bffbc57"
      },
      "outputs": [
        {
          "output_type": "stream",
          "name": "stdout",
          "text": [
            "Collecting h5py==2.10.0\n",
            "  Downloading h5py-2.10.0-cp37-cp37m-manylinux1_x86_64.whl (2.9 MB)\n",
            "\u001b[K     |████████████████████████████████| 2.9 MB 5.5 MB/s \n",
            "\u001b[?25hRequirement already satisfied: numpy>=1.7 in /usr/local/lib/python3.7/dist-packages (from h5py==2.10.0) (1.21.5)\n",
            "Requirement already satisfied: six in /usr/local/lib/python3.7/dist-packages (from h5py==2.10.0) (1.15.0)\n",
            "Installing collected packages: h5py\n",
            "  Attempting uninstall: h5py\n",
            "    Found existing installation: h5py 3.1.0\n",
            "    Uninstalling h5py-3.1.0:\n",
            "      Successfully uninstalled h5py-3.1.0\n",
            "\u001b[31mERROR: pip's dependency resolver does not currently take into account all the packages that are installed. This behaviour is the source of the following dependency conflicts.\n",
            "tensorflow 2.8.0 requires tf-estimator-nightly==2.8.0.dev2021122109, which is not installed.\u001b[0m\n",
            "Successfully installed h5py-2.10.0\n",
            "--2022-04-01 15:23:17--  https://pysource.com/extra_files/Mask_RCNN_basic_1.zip\n",
            "Resolving pysource.com (pysource.com)... 172.67.180.33, 104.21.67.193, 2606:4700:3036::ac43:b421, ...\n",
            "Connecting to pysource.com (pysource.com)|172.67.180.33|:443... connected.\n",
            "HTTP request sent, awaiting response... 200 OK\n",
            "Length: 1282557 (1.2M) [application/zip]\n",
            "Saving to: ‘Mask_RCNN_basic_1.zip’\n",
            "\n",
            "Mask_RCNN_basic_1.z 100%[===================>]   1.22M  --.-KB/s    in 0.04s   \n",
            "\n",
            "2022-04-01 15:23:17 (27.6 MB/s) - ‘Mask_RCNN_basic_1.zip’ saved [1282557/1282557]\n",
            "\n",
            "Archive:  Mask_RCNN_basic_1.zip\n",
            "   creating: Mask_RCNN/\n",
            "  inflating: Mask_RCNN/.gitignore    \n",
            "   creating: Mask_RCNN/assets/\n",
            "   creating: Mask_RCNN/images/\n",
            "  inflating: Mask_RCNN/LICENSE       \n",
            "  inflating: Mask_RCNN/MANIFEST.in   \n",
            "   creating: Mask_RCNN/mrcnn/\n",
            "  inflating: Mask_RCNN/mrcnn/config.py  \n",
            "  inflating: Mask_RCNN/mrcnn/model.py  \n",
            "  inflating: Mask_RCNN/mrcnn/m_rcnn.py  \n",
            "  inflating: Mask_RCNN/mrcnn/parallel_model.py  \n",
            "  inflating: Mask_RCNN/mrcnn/utils.py  \n",
            "  inflating: Mask_RCNN/mrcnn/visualize.py  \n",
            "  inflating: Mask_RCNN/mrcnn/__init__.py  \n",
            "  inflating: Mask_RCNN/README.md     \n",
            "  inflating: Mask_RCNN/requirements.txt  \n",
            "  inflating: Mask_RCNN/Run_Mask_RCNN_on_images_(DEMO).ipynb  \n",
            "   creating: Mask_RCNN/samples/\n",
            "  inflating: Mask_RCNN/samples/demo.ipynb  \n",
            "  inflating: Mask_RCNN/setup.cfg     \n",
            "  inflating: Mask_RCNN/setup.py      \n",
            "  inflating: Mask_RCNN/Train_Mask_RCNN_(DEMO).ipynb  \n",
            "VERS 0.2\n"
          ]
        },
        {
          "output_type": "error",
          "ename": "AttributeError",
          "evalue": "ignored",
          "traceback": [
            "\u001b[0;31m---------------------------------------------------------------------------\u001b[0m",
            "\u001b[0;31mAttributeError\u001b[0m                            Traceback (most recent call last)",
            "\u001b[0;32m<ipython-input-1-2512ea43ae23>\u001b[0m in \u001b[0;36m<module>\u001b[0;34m()\u001b[0m\n\u001b[1;32m      4\u001b[0m \u001b[0;32mimport\u001b[0m \u001b[0msys\u001b[0m\u001b[0;34m\u001b[0m\u001b[0;34m\u001b[0m\u001b[0m\n\u001b[1;32m      5\u001b[0m \u001b[0msys\u001b[0m\u001b[0;34m.\u001b[0m\u001b[0mpath\u001b[0m\u001b[0;34m.\u001b[0m\u001b[0mappend\u001b[0m\u001b[0;34m(\u001b[0m\u001b[0;34m\"/content/Mask_RCNN/mrcnn\"\u001b[0m\u001b[0;34m)\u001b[0m\u001b[0;34m\u001b[0m\u001b[0;34m\u001b[0m\u001b[0m\n\u001b[0;32m----> 6\u001b[0;31m \u001b[0;32mfrom\u001b[0m \u001b[0mm_rcnn\u001b[0m \u001b[0;32mimport\u001b[0m \u001b[0;34m*\u001b[0m\u001b[0;34m\u001b[0m\u001b[0;34m\u001b[0m\u001b[0m\n\u001b[0m\u001b[1;32m      7\u001b[0m \u001b[0mget_ipython\u001b[0m\u001b[0;34m(\u001b[0m\u001b[0;34m)\u001b[0m\u001b[0;34m.\u001b[0m\u001b[0mmagic\u001b[0m\u001b[0;34m(\u001b[0m\u001b[0;34m'matplotlib inline'\u001b[0m\u001b[0;34m)\u001b[0m\u001b[0;34m\u001b[0m\u001b[0;34m\u001b[0m\u001b[0m\n",
            "\u001b[0;32m/content/Mask_RCNN/mrcnn/m_rcnn.py\u001b[0m in \u001b[0;36m<module>\u001b[0;34m()\u001b[0m\n\u001b[1;32m     21\u001b[0m \u001b[0;32mfrom\u001b[0m \u001b[0mmrcnn\u001b[0m\u001b[0;34m.\u001b[0m\u001b[0mconfig\u001b[0m \u001b[0;32mimport\u001b[0m \u001b[0mConfig\u001b[0m\u001b[0;34m\u001b[0m\u001b[0;34m\u001b[0m\u001b[0m\n\u001b[1;32m     22\u001b[0m \u001b[0;32mfrom\u001b[0m \u001b[0mmrcnn\u001b[0m \u001b[0;32mimport\u001b[0m \u001b[0mutils\u001b[0m\u001b[0;34m\u001b[0m\u001b[0;34m\u001b[0m\u001b[0m\n\u001b[0;32m---> 23\u001b[0;31m \u001b[0;32mimport\u001b[0m \u001b[0mmrcnn\u001b[0m\u001b[0;34m.\u001b[0m\u001b[0mmodel\u001b[0m \u001b[0;32mas\u001b[0m \u001b[0mmodellib\u001b[0m\u001b[0;34m\u001b[0m\u001b[0;34m\u001b[0m\u001b[0m\n\u001b[0m\u001b[1;32m     24\u001b[0m \u001b[0;32mfrom\u001b[0m \u001b[0mmrcnn\u001b[0m \u001b[0;32mimport\u001b[0m \u001b[0mvisualize\u001b[0m\u001b[0;34m\u001b[0m\u001b[0;34m\u001b[0m\u001b[0m\n\u001b[1;32m     25\u001b[0m \u001b[0;32mfrom\u001b[0m \u001b[0mmrcnn\u001b[0m\u001b[0;34m.\u001b[0m\u001b[0mmodel\u001b[0m \u001b[0;32mimport\u001b[0m \u001b[0mlog\u001b[0m\u001b[0;34m\u001b[0m\u001b[0;34m\u001b[0m\u001b[0m\n",
            "\u001b[0;32m/content/Mask_RCNN/mrcnn/model.py\u001b[0m in \u001b[0;36m<module>\u001b[0;34m()\u001b[0m\n\u001b[1;32m    253\u001b[0m \u001b[0;34m\u001b[0m\u001b[0m\n\u001b[1;32m    254\u001b[0m \u001b[0;34m\u001b[0m\u001b[0m\n\u001b[0;32m--> 255\u001b[0;31m \u001b[0;32mclass\u001b[0m \u001b[0mProposalLayer\u001b[0m\u001b[0;34m(\u001b[0m\u001b[0mKE\u001b[0m\u001b[0;34m.\u001b[0m\u001b[0mLayer\u001b[0m\u001b[0;34m)\u001b[0m\u001b[0;34m:\u001b[0m\u001b[0;34m\u001b[0m\u001b[0;34m\u001b[0m\u001b[0m\n\u001b[0m\u001b[1;32m    256\u001b[0m     \"\"\"Receives anchor scores and selects a subset to pass as proposals\n\u001b[1;32m    257\u001b[0m     \u001b[0mto\u001b[0m \u001b[0mthe\u001b[0m \u001b[0msecond\u001b[0m \u001b[0mstage\u001b[0m\u001b[0;34m.\u001b[0m \u001b[0mFiltering\u001b[0m \u001b[0;32mis\u001b[0m \u001b[0mdone\u001b[0m \u001b[0mbased\u001b[0m \u001b[0mon\u001b[0m \u001b[0manchor\u001b[0m \u001b[0mscores\u001b[0m \u001b[0;32mand\u001b[0m\u001b[0;34m\u001b[0m\u001b[0;34m\u001b[0m\u001b[0m\n",
            "\u001b[0;31mAttributeError\u001b[0m: module 'keras.engine' has no attribute 'Layer'"
          ]
        }
      ],
      "source": [
        "!pip install --upgrade h5py==2.10.0\n",
        "!wget https://pysource.com/extra_files/Mask_RCNN_basic_1.zip\n",
        "!unzip Mask_RCNN_basic_1.zip\n",
        "import sys\n",
        "sys.path.append(\"/content/Mask_RCNN/mrcnn\")\n",
        "from m_rcnn import *\n",
        "%matplotlib inline"
      ]
    },
    {
      "cell_type": "code",
      "source": [
        "# Extract Images\n",
        "images_path = \"dataset.zip\"\n",
        "annotations_path = \"annotations.json\"\n",
        "\n",
        "extract_images(os.path.join(\"/content/\",images_path), \"/content/dataset/\")"
      ],
      "metadata": {
        "id": "x9yXT9ZHAlel"
      },
      "execution_count": null,
      "outputs": []
    },
    {
      "cell_type": "code",
      "source": [
        "dataset_train = load_image_dataset(path.join(\"/content/\", annotations_path), \"/content/dataset/\", \"train\")\n",
        "dataset_val = load_image_dataset(path.join(\"/content/\", annotations_path), \"/content/dataset/\", \"val\")\n",
        "class_number = dataset_train.count_classes()"
      ],
      "metadata": {
        "id": "GNBiJWSNBNrr"
      },
      "execution_count": null,
      "outputs": []
    },
    {
      "cell_type": "code",
      "source": [
        "# Load image samples\n",
        "display_image_samples(dataset_train)"
      ],
      "metadata": {
        "id": "mUZw-ZSWBUBO"
      },
      "execution_count": null,
      "outputs": []
    },
    {
      "cell_type": "code",
      "source": [
        "# Load Configuration\n",
        "config = CustomConfig(class_number)\n",
        "#config.display()\n",
        "model = load_training_model(config)"
      ],
      "metadata": {
        "id": "niaHHiviBaka"
      },
      "execution_count": null,
      "outputs": []
    },
    {
      "cell_type": "code",
      "source": [
        "# Start Training\n",
        "# This operation might take a long time.\n",
        "train_head(model, dataset_train, dataset_train, config)"
      ],
      "metadata": {
        "id": "3xlDtUxxBh-u"
      },
      "execution_count": null,
      "outputs": []
    },
    {
      "cell_type": "code",
      "source": [
        "# Load Test Model\n",
        "# The latest trained model will be loaded\n",
        "test_model, inference_config = load_test_model(class_number)"
      ],
      "metadata": {
        "id": "-G7rpasABotM"
      },
      "execution_count": null,
      "outputs": []
    },
    {
      "cell_type": "code",
      "source": [
        "# Test on a random image\n",
        "test_random_image(test_model, dataset_val, inference_config)"
      ],
      "metadata": {
        "id": "2HgcixuiBqX8"
      },
      "execution_count": null,
      "outputs": []
    }
  ]
}